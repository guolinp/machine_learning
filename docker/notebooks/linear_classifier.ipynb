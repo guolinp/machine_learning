{
 "cells": [
  {
   "cell_type": "code",
   "execution_count": 62,
   "metadata": {},
   "outputs": [],
   "source": [
    "import random\n",
    "\n",
    "def calc_class(x1, x2):\n",
    "    r = 0.1 * x1 + 0.2 * x2 - 0.5\n",
    "    return 1 if r > 1 else 0\n",
    "\n",
    "\n",
    "def mkdataset(filename, start, stop, num):\n",
    "    x1 = [random.randrange(start, stop) for i in range(num)]\n",
    "    x2 = [random.randrange(start, stop) for i in range(num)]\n",
    "\n",
    "    with open(filename, 'w') as f:\n",
    "        f.writelines(\"X1,X2,Y\\n\")\n",
    "        for i in range(num):\n",
    "            f.writelines(\"%d,%d,%d\\n\" % (x1[i], x2[i], calc_class(x1[i], x2[i])))\n",
    "\n",
    "mkdataset(\"data.csv\", 0, 10, 200)\n",
    "mkdataset(\"test.csv\", 1, 8, 100)"
   ]
  },
  {
   "cell_type": "code",
   "execution_count": 63,
   "metadata": {},
   "outputs": [
    {
     "name": "stdout",
     "output_type": "stream",
     "text": [
      "step:    0, w1=0.05548954, w2=0.27205494, b=-0.01915171, loss=1.29653049\n",
      "step:  100, w1=0.01395305, w2=0.10974884, b=-0.09521362, loss=0.08429909\n",
      "step:  200, w1=0.01835064, w2=0.11425003, b=-0.14214295, loss=0.07980826\n",
      "step:  300, w1=0.02205710, w2=0.11805610, b=-0.18176417, loss=0.07660720\n",
      "step:  400, w1=0.02518634, w2=0.12126948, b=-0.21521528, loss=0.07432550\n",
      "step:  500, w1=0.02782830, w2=0.12398244, b=-0.24345723, loss=0.07269911\n",
      "step:  600, w1=0.03005883, w2=0.12627292, b=-0.26730105, loss=0.07153984\n",
      "step:  700, w1=0.03194202, w2=0.12820670, b=-0.28743181, loss=0.07071351\n",
      "step:  800, w1=0.03353192, w2=0.12983938, b=-0.30442768, loss=0.07012449\n",
      "step:  900, w1=0.03487425, w2=0.13121778, b=-0.31877682, loss=0.06970466\n"
     ]
    }
   ],
   "source": [
    "import tensorflow as tf  \n",
    "import pandas as pd  \n",
    "\n",
    "train = pd.read_csv('data.csv')\n",
    "test = pd.read_csv('test.csv')\n",
    "\n",
    "x_train = np.float32(train[['X1', 'X2']].T)  \n",
    "y_train = np.float32(train['Y'].T)  \n",
    "  \n",
    "x_test = np.float32(test[['X1', 'X2']].T)  \n",
    "y_test = np.float32(test['Y'].T)  \n",
    "  \n",
    "b = tf.Variable(tf.zeros([1]))\n",
    "w = tf.Variable(tf.random_uniform([1, 2]))\n",
    "  \n",
    "y = tf.matmul(w, x_train) + b  \n",
    "  \n",
    "loss = tf.reduce_mean(tf.square(y - y_train))  \n",
    "  \n",
    "optimizer = tf.train.GradientDescentOptimizer(0.005)  \n",
    "train = optimizer.minimize(loss)  \n",
    "  \n",
    "sess = tf.Session()  \n",
    "sess.run(tf.global_variables_initializer())  \n",
    "  \n",
    "for step in range(0, 1000):  \n",
    "    sess.run(train)\n",
    "    if step % 100 == 0:\n",
    "        curr_w = sess.run(w)\n",
    "        curr_b = sess.run(b)\n",
    "        curr_loss = sess.run(loss)\n",
    "        print('step: %4d, w1=%.8f, w2=%.8f, b=%.8f, loss=%.8f' % (step, curr_w[0][0], curr_w[0][1], curr_b, curr_loss))"
   ]
  },
  {
   "cell_type": "code",
   "execution_count": 64,
   "metadata": {},
   "outputs": [
    {
     "data": {
      "image/png": "[encoded data removed]",
      "text/plain": [
       "<Figure size 432x288 with 1 Axes>"
      ]
     },
     "metadata": {},
     "output_type": "display_data"
    }
   ],
   "source": [
    "import matplotlib.pyplot as plt \n",
    "\n",
    "test_negative = test.loc[test['Y']==0][['X1', 'X2']]\n",
    "test_positive = test.loc[test['Y']==1][['X1', 'X2']]  \n",
    "\n",
    "plt.scatter(test_negative['X1'], test_negative['X2'], marker='o', s=100, c='red')  \n",
    "plt.scatter(test_positive['X1'], test_positive['X2'], marker='x', s=100, c='black')  \n",
    "\n",
    "plt.xlabel('X1')  \n",
    "plt.ylabel('X2')  \n",
    "\n",
    "# w1*x + w2*y + b = 0.5 => y = (0.5 - b - w1*x) / w2  \n",
    "line_x = np.arange(0, 11)  \n",
    "line_y = (0.5 - sess.run(b) - line_x*sess.run(w)[0][0]) / sess.run(w)[0][1]\n",
    "\n",
    "plt.plot(line_x, line_y, color='green')  \n",
    "plt.show() "
   ]
  },
  {
   "cell_type": "code",
   "execution_count": null,
   "metadata": {},
   "outputs": [],
   "source": []
  }
 ],
 "metadata": {
  "kernelspec": {
   "display_name": "Python 2",
   "language": "python",
   "name": "python2"
  },
  "language_info": {
   "codemirror_mode": {
    "name": "ipython",
    "version": 2
   },
   "file_extension": ".py",
   "mimetype": "text/x-python",
   "name": "python",
   "nbconvert_exporter": "python",
   "pygments_lexer": "ipython2",
   "version": "2.7.12"
  }
 },
 "nbformat": 4,
 "nbformat_minor": 2
}
